{
 "cells": [
  {
   "cell_type": "code",
   "execution_count": null,
   "metadata": {},
   "outputs": [],
   "source": [
    "# Barry 18/3/2018\n",
    "import numpy as np\n",
    "def checkCRC8(xa) :  \n",
    "   # Generates 8-bit CRC check as 1x8 row-vector\n",
    "   # xa is array of bits expressed as a row-vector\n",
    "   # Generator polynomial is g(x) = x^8 + x^2 +x + 1\n",
    "   g8x = [1,0,0,0,0,0,1,1,1] ;  # Generator polynomial as row-vector\n",
    "   xae = np.append(xa, [0,0,0,0,0,0,0,0] );  # Append 8 zeros\n",
    "   xsa=xae[0:9]\n",
    "   for i in range (0 , len(xa) ) :\n",
    "      if xsa[0] == g8x[0]: \n",
    "          xsa = xsa ^ g8x  \n",
    "          xsa[0:8] = xsa[1:9]\n",
    "      if ( i < len(xa) ) :\n",
    "           xsa[8] = xae[ i + 8] \n",
    "   check = xsa[0:8]    \n",
    "   return check\n"
   ]
  },
  {
   "cell_type": "code",
   "execution_count": null,
   "metadata": {},
   "outputs": [],
   "source": [
    "xa = [1,0,0,1,0,0,0,1,1,1,1]\n",
    "check = checkCRC8(xa)\n",
    "print \"check = \", check"
   ]
  },
  {
   "cell_type": "code",
   "execution_count": null,
   "metadata": {},
   "outputs": [],
   "source": [
    "# Barry 18 March 2018\n",
    "import numpy as np\n",
    "def checkCRC(xa,gx) :  \n",
    "   # Generates M-bit CRC as row-vector where length of gx is (M+1)\n",
    "   # Generator polynomial of order M is represented by gx(0:M)\n",
    "   # Message is bit-array xa(0:L)\n",
    "   M = len(gx)-1\n",
    "   print \"M = \", M\n",
    "   # Does not append zeros to xa & assumes that this has been done already\n",
    "   xsa = xa[0:M+1]\n",
    "   for i in range (0 , len(xa) -(M-1)):\n",
    "      if xsa[0] == gx[0]: \n",
    "          xsa = xsa ^ gx      \n",
    "      xsa[0:M] = xsa[1:M+1]\n",
    "      if ( i < len(xa)-M ) :\n",
    "           xsa[M] = xa[ i + M]\n",
    "      print(i, \"xsa: \", xsa)\n",
    "   check = xsa[0:M]    \n",
    "   return check\n"
   ]
  },
  {
   "cell_type": "code",
   "execution_count": null,
   "metadata": {
    "scrolled": true
   },
   "outputs": [],
   "source": [
    "import numpy as np\n",
    "xa = [1,0,0,1,0,0,0,1,1,1,1]\n",
    "gx = [1,0,0,0,1]\n",
    "xa = np.array(xa)\n",
    "gx = np.array(gx)\n",
    "check = checkCRC(xa,gx)\n",
    "print \"check = \", check\n"
   ]
  }
 ],
 "metadata": {
  "kernelspec": {
   "display_name": "Python 2",
   "language": "python",
   "name": "python2"
  },
  "language_info": {
   "codemirror_mode": {
    "name": "ipython",
    "version": 2
   },
   "file_extension": ".py",
   "mimetype": "text/x-python",
   "name": "python",
   "nbconvert_exporter": "python",
   "pygments_lexer": "ipython2",
   "version": "2.7.11"
  }
 },
 "nbformat": 4,
 "nbformat_minor": 1
}
