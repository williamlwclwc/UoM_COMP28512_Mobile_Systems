{
 "cells": [
  {
   "cell_type": "code",
   "execution_count": null,
   "metadata": {
    "collapsed": true
   },
   "outputs": [],
   "source": [
    "# Barry 18/3/2018\n",
    "import numpy as np\n",
    "def checkCRC8(xa) :  \n",
    "   # Generates 8-bit CRC check as 1x8 row-vector\n",
    "   # xa is array of bits expressed as a row-vector\n",
    "   # Generator polynomial is g(x) = x^8 + x^2 +x + 1\n",
    "   g8x = [1,0,0,0,0,0,1,1,1] ;  # Generator polynomial as row-vector\n",
    "   xae = np.append(xa, [0,0,0,0,0,0,0,0] );  # Append 8 zeros\n",
    "   xsa=xae[0:9] #Get 1st 9bits from 0 to 8\n",
    "   for i in range (0 , len(xa) ) : #loop for all the bits in original array\n",
    "      if xsa[0] == g8x[0]: #If 1st bit is a 1, perform xor\n",
    "          xsa = xsa ^ g8x  #result of xor\n",
    "      xsa[0:8] = xsa[1:9]  #Shift the result one place left\n",
    "      if ( i < len(xa)-1 ) : #Make sure we are not at end of xoring part of CRC algorithm (-1 because arrays start at 0)\n",
    "           xsa[8] = xae[ i + 9] #Pull the next bit of the array down and put it in right most bit of result\n",
    "   check = xsa[0:8] #Get reminder   \n",
    "   return check #return the CRC value\n"
   ]
  },
  {
   "cell_type": "code",
   "execution_count": null,
   "metadata": {},
   "outputs": [],
   "source": [
    "xa = [1,0,0,1,0,0,0,1,1,1,1,0]\n",
    "check = checkCRC8(xa)\n",
    "print \"check = \", check"
   ]
  },
  {
   "cell_type": "code",
   "execution_count": null,
   "metadata": {
    "collapsed": true
   },
   "outputs": [],
   "source": [
    "# Barry 18 March 2018\n",
    "import numpy as np\n",
    "def checkCRC(xa,gx) :  \n",
    "   # Generates M-bit CRC as row-vector where length of gx is (M+1)\n",
    "   # Generator polynomial of order M is represented by gx(0:M)\n",
    "   # Message is bit-array xa(0:L)\n",
    "   M = len(gx)-1\n",
    "   print \"M = \", M\n",
    "   # Does not append zeros to xa & assumes that this has been done already\n",
    "   xsa = xa[0:M+1]\n",
    "   for i in range (0 , len(xa) -(M)):\n",
    "      if xsa[0] == gx[0]: \n",
    "          xsa = xsa ^ gx      \n",
    "      xsa[0:M] = xsa[1:M+1]\n",
    "      if ( i < len(xa)-M-1 ) :\n",
    "           xsa[M] = xa[ i + M+1]\n",
    "      print(i, \"xsa: \", xsa)\n",
    "   check = xsa[0:M]    \n",
    "   return check\n"
   ]
  },
  {
   "cell_type": "code",
   "execution_count": null,
   "metadata": {
    "scrolled": true
   },
   "outputs": [],
   "source": [
    "import numpy as np\n",
    "xa = [1,0,0,1,0,0,0,1,1,1,1,0,0,0,0,0,0,0,0,0]\n",
    "gx = [1,0,0,0,0,0,1,1,1]\n",
    "xa = np.array(xa)\n",
    "gx = np.array(gx)\n",
    "check = checkCRC(xa,gx)\n",
    "print \"check = \", check\n"
   ]
  },
  {
   "cell_type": "code",
   "execution_count": null,
   "metadata": {
    "collapsed": true
   },
   "outputs": [],
   "source": []
  }
 ],
 "metadata": {
  "kernelspec": {
   "display_name": "Python 2",
   "language": "python",
   "name": "python2"
  },
  "language_info": {
   "codemirror_mode": {
    "name": "ipython",
    "version": 2
   },
   "file_extension": ".py",
   "mimetype": "text/x-python",
   "name": "python",
   "nbconvert_exporter": "python",
   "pygments_lexer": "ipython2",
   "version": "2.7.11"
  }
 },
 "nbformat": 4,
 "nbformat_minor": 1
}
